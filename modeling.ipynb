{
 "cells": [
  {
   "cell_type": "markdown",
   "metadata": {
    "collapsed": true
   },
   "source": [
    "# Modélisation"
   ]
  },
  {
   "cell_type": "code",
   "execution_count": 1,
   "metadata": {
    "collapsed": true
   },
   "outputs": [],
   "source": [
    "# Bibliothèques nécessaires\n",
    "import pandas as pd\n",
    "import numpy as np\n",
    "from sklearn.svm import SVR\n",
    "from sklearn import linear_model\n",
    "from sklearn.ensemble import RandomForestRegressor\n",
    "import math\n",
    "import operator\n",
    "\n",
    "def RMSLE(estimate, real):\n",
    "    \"\"\"\n",
    "        Computes the Root Mean Square Logarithmic Error of two elements.\n",
    "        \n",
    "        :param estimate: The predicted values\n",
    "        :param real: The real values\n",
    "        :return: The RMSLE of the two input elements\n",
    "    \"\"\"\n",
    "    \n",
    "    # we check the size on the input elements are the same\n",
    "    assert(estimate.size == real.size), \"Input elements must have the same size\"\n",
    "    size = estimate.size\n",
    "    diff = map(operator.sub, \n",
    "               map(lambda x:math.log(x+1), estimate),\n",
    "               map(lambda x:math.log(x+1), real))\n",
    "    diff_squared = map(lambda x:x*x, diff)\n",
    "    return math.sqrt(sum(diff_squared)/size)"
   ]
  },
  {
   "cell_type": "code",
   "execution_count": 2,
   "metadata": {
    "collapsed": false
   },
   "outputs": [],
   "source": [
    "# Chemin vers le fichier csv contenant les données à explorer.\n",
    "path= \"data/cleaned/mower_market_snapshot_cleaned.csv\"\n",
    "\n",
    "# Délimiteur utilisé dans le fichier csv\n",
    "delimiter=\",\"\n",
    "\n",
    "# Création de la dataframe à partir du fichier csv\n",
    "mower_df = pd.read_csv(path, delimiter=delimiter)"
   ]
  },
  {
   "cell_type": "code",
   "execution_count": 3,
   "metadata": {
    "collapsed": true
   },
   "outputs": [],
   "source": [
    "# Training set\n",
    "train_size = 1120 # we do 80/20 since the dataset is not highly big\n",
    "train_mower = mower_df.sample(n=train_size)\n",
    "\n",
    "train_x = train_mower.iloc[0:,0:7]\n",
    "train_x.drop(labels=\"id\", axis=1, inplace=True)\n",
    "\n",
    "# test set\n",
    "test_mower = mower_df[~mower_df.id.isin(train_mower.id)]\n",
    "\n",
    "test_x = test_mower.iloc[0:,0:7]\n",
    "test_x.drop(labels=\"id\", axis=1, inplace=True)"
   ]
  },
  {
   "cell_type": "markdown",
   "metadata": {},
   "source": [
    "## Support Vector Classification with linear kernel"
   ]
  },
  {
   "cell_type": "code",
   "execution_count": 4,
   "metadata": {
    "collapsed": false
   },
   "outputs": [
    {
     "data": {
      "text/plain": [
       "0.07270711149308698"
      ]
     },
     "execution_count": 4,
     "metadata": {},
     "output_type": "execute_result"
    }
   ],
   "source": [
    "clf_svr_lin = SVR(kernel='linear', tol=0.001)\n",
    "# training\n",
    "clf_svr_lin = clf_svr_lin.fit(train_x.values, train_mower.attractiveness.values)\n",
    "# testing\n",
    "result_svr_lin = clf_svr_lin.predict(test_x.values)\n",
    "# error\n",
    "RMSLE(result_svr_lin, test_mower.attractiveness.values)"
   ]
  },
  {
   "cell_type": "markdown",
   "metadata": {},
   "source": [
    "## Support Vector Classification"
   ]
  },
  {
   "cell_type": "code",
   "execution_count": 5,
   "metadata": {
    "collapsed": false
   },
   "outputs": [
    {
     "data": {
      "text/plain": [
       "0.07135023368762025"
      ]
     },
     "execution_count": 5,
     "metadata": {},
     "output_type": "execute_result"
    }
   ],
   "source": [
    "reg = linear_model.Ridge(alpha = .5)\n",
    "# training\n",
    "reg.fit(train_x.values, train_mower.attractiveness.values)\n",
    "# testing\n",
    "result_reg = reg.predict(test_x.values)\n",
    "# error\n",
    "RMSLE(result_reg, test_mower.attractiveness.values)"
   ]
  },
  {
   "cell_type": "markdown",
   "metadata": {},
   "source": [
    "## Support Vector Classification with rbf kernel"
   ]
  },
  {
   "cell_type": "code",
   "execution_count": 6,
   "metadata": {
    "collapsed": false
   },
   "outputs": [
    {
     "data": {
      "text/plain": [
       "0.05880304421489724"
      ]
     },
     "execution_count": 6,
     "metadata": {},
     "output_type": "execute_result"
    }
   ],
   "source": [
    "clf_rbf = SVR(kernel='rbf')\n",
    "clf_rbf = clf_rbf.fit(train_x.values, train_mower.attractiveness.values)\n",
    "result_rbf = clf_rbf.predict(test_x.values)\n",
    "RMSLE(result_rbf, test_mower.attractiveness.values)"
   ]
  },
  {
   "cell_type": "markdown",
   "metadata": {},
   "source": [
    "## Random forest"
   ]
  },
  {
   "cell_type": "code",
   "execution_count": 7,
   "metadata": {
    "collapsed": false
   },
   "outputs": [
    {
     "data": {
      "text/plain": [
       "0.04295184123308616"
      ]
     },
     "execution_count": 7,
     "metadata": {},
     "output_type": "execute_result"
    }
   ],
   "source": [
    "clf_rfg = RandomForestRegressor(50)\n",
    "clf_rfg = clf_rfg.fit(train_x.values, train_mower.attractiveness.values)\n",
    "result_rfg = clf_rfg.predict(test_x.values)\n",
    "RMSLE(result_rfg, test_mower.attractiveness.values)"
   ]
  },
  {
   "cell_type": "markdown",
   "metadata": {},
   "source": [
    "La fôret aléatoire semble le meilleur candidat pour réaliser notre prédiction"
   ]
  },
  {
   "cell_type": "markdown",
   "metadata": {},
   "source": [
    "## Prédiction"
   ]
  },
  {
   "cell_type": "code",
   "execution_count": 8,
   "metadata": {
    "collapsed": true
   },
   "outputs": [],
   "source": [
    "# Chemin vers le fichier csv contenant les données à explorer.\n",
    "path= \"data/original/submission_set.csv\"\n",
    "\n",
    "# Délimiteur utilisé dans le fichier csv\n",
    "delimiter_submission=\";\"\n",
    "\n",
    "# Création de la dataframe à partir du fichier csv\n",
    "submission_df = pd.read_csv(path, delimiter=delimiter_submission)"
   ]
  },
  {
   "cell_type": "code",
   "execution_count": 9,
   "metadata": {
    "collapsed": false
   },
   "outputs": [],
   "source": [
    "# On supprime les variables que nous ne voulons pas garder pour la prédiction\n",
    "submission_df.drop(labels=\"margin\", axis=1, inplace=True)\n",
    "submission_df.drop(labels=\"prod_cost\", axis=1, inplace=True)\n",
    "\n",
    "# Puis on applique les dictionnaires appliquées dans l'étape précédente\n",
    "\n",
    "# Dictionnaire à appliquer sur la variable \"indice de qualité\".\n",
    "dict_quality = {\"Low\": -1, \"Medium\": 0, \"Hight\": 1}\n",
    "\n",
    "for line_index in range(submission_df.quality.size):\n",
    "        quality = submission_df[\"quality\"][line_index]\n",
    "        submission_df.set_value(line_index, \"quality\", dict_quality[quality])\n",
    "        \n",
    "# dictionnaire à appliquer sur la variable \"product type\"\n",
    "product_type_dict = {\"auto-portee\":1, \"electrique\":2, \"essence\":3}\n",
    "\n",
    "for line_index in range(submission_df.product_type.size):\n",
    "        product_type = submission_df[\"product_type\"][line_index]\n",
    "        submission_df.set_value(line_index, \"product_type\", product_type_dict[product_type])\n",
    "        \n",
    "for line in range(submission_df.warranty.size):\n",
    "    warranty = submission_df[\"warranty\"][line]\n",
    "    submission_df.set_value(line, \"warranty\", np.int(warranty[0]))"
   ]
  },
  {
   "cell_type": "code",
   "execution_count": 10,
   "metadata": {
    "collapsed": false
   },
   "outputs": [
    {
     "data": {
      "text/html": [
       "<div>\n",
       "<table border=\"1\" class=\"dataframe\">\n",
       "  <thead>\n",
       "    <tr style=\"text-align: right;\">\n",
       "      <th></th>\n",
       "      <th>capacity</th>\n",
       "      <th>failure_rate</th>\n",
       "      <th>id</th>\n",
       "      <th>price</th>\n",
       "      <th>product_type</th>\n",
       "      <th>quality</th>\n",
       "      <th>warranty</th>\n",
       "    </tr>\n",
       "  </thead>\n",
       "  <tbody>\n",
       "    <tr>\n",
       "      <th>count</th>\n",
       "      <td>600.000000</td>\n",
       "      <td>600.000000</td>\n",
       "      <td>600.000000</td>\n",
       "      <td>600.000000</td>\n",
       "      <td>600.0</td>\n",
       "      <td>600.0</td>\n",
       "      <td>600.0</td>\n",
       "    </tr>\n",
       "    <tr>\n",
       "      <th>unique</th>\n",
       "      <td>NaN</td>\n",
       "      <td>NaN</td>\n",
       "      <td>NaN</td>\n",
       "      <td>NaN</td>\n",
       "      <td>3.0</td>\n",
       "      <td>3.0</td>\n",
       "      <td>3.0</td>\n",
       "    </tr>\n",
       "    <tr>\n",
       "      <th>top</th>\n",
       "      <td>NaN</td>\n",
       "      <td>NaN</td>\n",
       "      <td>NaN</td>\n",
       "      <td>NaN</td>\n",
       "      <td>3.0</td>\n",
       "      <td>-1.0</td>\n",
       "      <td>1.0</td>\n",
       "    </tr>\n",
       "    <tr>\n",
       "      <th>freq</th>\n",
       "      <td>NaN</td>\n",
       "      <td>NaN</td>\n",
       "      <td>NaN</td>\n",
       "      <td>NaN</td>\n",
       "      <td>355.0</td>\n",
       "      <td>407.0</td>\n",
       "      <td>355.0</td>\n",
       "    </tr>\n",
       "    <tr>\n",
       "      <th>mean</th>\n",
       "      <td>50.101143</td>\n",
       "      <td>0.164916</td>\n",
       "      <td>19957.500000</td>\n",
       "      <td>244.531361</td>\n",
       "      <td>NaN</td>\n",
       "      <td>NaN</td>\n",
       "      <td>NaN</td>\n",
       "    </tr>\n",
       "    <tr>\n",
       "      <th>std</th>\n",
       "      <td>16.364164</td>\n",
       "      <td>0.073387</td>\n",
       "      <td>173.349358</td>\n",
       "      <td>241.642303</td>\n",
       "      <td>NaN</td>\n",
       "      <td>NaN</td>\n",
       "      <td>NaN</td>\n",
       "    </tr>\n",
       "    <tr>\n",
       "      <th>min</th>\n",
       "      <td>7.432330</td>\n",
       "      <td>0.029201</td>\n",
       "      <td>19658.000000</td>\n",
       "      <td>63.969204</td>\n",
       "      <td>NaN</td>\n",
       "      <td>NaN</td>\n",
       "      <td>NaN</td>\n",
       "    </tr>\n",
       "    <tr>\n",
       "      <th>25%</th>\n",
       "      <td>38.754969</td>\n",
       "      <td>0.095825</td>\n",
       "      <td>19807.750000</td>\n",
       "      <td>73.367481</td>\n",
       "      <td>NaN</td>\n",
       "      <td>NaN</td>\n",
       "      <td>NaN</td>\n",
       "    </tr>\n",
       "    <tr>\n",
       "      <th>50%</th>\n",
       "      <td>50.761661</td>\n",
       "      <td>0.202148</td>\n",
       "      <td>19957.500000</td>\n",
       "      <td>78.618777</td>\n",
       "      <td>NaN</td>\n",
       "      <td>NaN</td>\n",
       "      <td>NaN</td>\n",
       "    </tr>\n",
       "    <tr>\n",
       "      <th>75%</th>\n",
       "      <td>61.342713</td>\n",
       "      <td>0.225939</td>\n",
       "      <td>20107.250000</td>\n",
       "      <td>380.587182</td>\n",
       "      <td>NaN</td>\n",
       "      <td>NaN</td>\n",
       "      <td>NaN</td>\n",
       "    </tr>\n",
       "    <tr>\n",
       "      <th>max</th>\n",
       "      <td>92.666666</td>\n",
       "      <td>0.280646</td>\n",
       "      <td>20257.000000</td>\n",
       "      <td>919.588021</td>\n",
       "      <td>NaN</td>\n",
       "      <td>NaN</td>\n",
       "      <td>NaN</td>\n",
       "    </tr>\n",
       "  </tbody>\n",
       "</table>\n",
       "</div>"
      ],
      "text/plain": [
       "          capacity  failure_rate            id       price  product_type  \\\n",
       "count   600.000000    600.000000    600.000000  600.000000         600.0   \n",
       "unique         NaN           NaN           NaN         NaN           3.0   \n",
       "top            NaN           NaN           NaN         NaN           3.0   \n",
       "freq           NaN           NaN           NaN         NaN         355.0   \n",
       "mean     50.101143      0.164916  19957.500000  244.531361           NaN   \n",
       "std      16.364164      0.073387    173.349358  241.642303           NaN   \n",
       "min       7.432330      0.029201  19658.000000   63.969204           NaN   \n",
       "25%      38.754969      0.095825  19807.750000   73.367481           NaN   \n",
       "50%      50.761661      0.202148  19957.500000   78.618777           NaN   \n",
       "75%      61.342713      0.225939  20107.250000  380.587182           NaN   \n",
       "max      92.666666      0.280646  20257.000000  919.588021           NaN   \n",
       "\n",
       "        quality  warranty  \n",
       "count     600.0     600.0  \n",
       "unique      3.0       3.0  \n",
       "top        -1.0       1.0  \n",
       "freq      407.0     355.0  \n",
       "mean        NaN       NaN  \n",
       "std         NaN       NaN  \n",
       "min         NaN       NaN  \n",
       "25%         NaN       NaN  \n",
       "50%         NaN       NaN  \n",
       "75%         NaN       NaN  \n",
       "max         NaN       NaN  "
      ]
     },
     "execution_count": 10,
     "metadata": {},
     "output_type": "execute_result"
    }
   ],
   "source": [
    "submission_df.describe(include='all')"
   ]
  },
  {
   "cell_type": "code",
   "execution_count": 11,
   "metadata": {
    "collapsed": true
   },
   "outputs": [],
   "source": [
    "ids = submission_df[\"id\"]\n",
    "submission_df.drop(labels=\"id\", axis=1, inplace=True)"
   ]
  },
  {
   "cell_type": "code",
   "execution_count": 12,
   "metadata": {
    "collapsed": false
   },
   "outputs": [],
   "source": [
    "submission_result = clf_rfg.predict(submission_df.values)\n",
    "\n",
    "col = ['id', 'attractiveness']\n",
    "submission_to_save = pd.DataFrame(zip(ids,submission_result), columns=col)"
   ]
  },
  {
   "cell_type": "code",
   "execution_count": 13,
   "metadata": {
    "collapsed": false
   },
   "outputs": [],
   "source": [
    "# On enregistre au format csv\n",
    "submission_to_save.to_csv(path_or_buf=\"data/result/besson_mathieu_attractiveness.csv\", sep=';', index=False)"
   ]
  },
  {
   "cell_type": "code",
   "execution_count": 14,
   "metadata": {
    "collapsed": false
   },
   "outputs": [
    {
     "data": {
      "text/html": [
       "<div>\n",
       "<table border=\"1\" class=\"dataframe\">\n",
       "  <thead>\n",
       "    <tr style=\"text-align: right;\">\n",
       "      <th></th>\n",
       "      <th>id</th>\n",
       "      <th>attractiveness</th>\n",
       "    </tr>\n",
       "  </thead>\n",
       "  <tbody>\n",
       "    <tr>\n",
       "      <th>count</th>\n",
       "      <td>600.000000</td>\n",
       "      <td>600.000000</td>\n",
       "    </tr>\n",
       "    <tr>\n",
       "      <th>mean</th>\n",
       "      <td>19957.500000</td>\n",
       "      <td>0.643014</td>\n",
       "    </tr>\n",
       "    <tr>\n",
       "      <th>std</th>\n",
       "      <td>173.349358</td>\n",
       "      <td>0.111017</td>\n",
       "    </tr>\n",
       "    <tr>\n",
       "      <th>min</th>\n",
       "      <td>19658.000000</td>\n",
       "      <td>0.357996</td>\n",
       "    </tr>\n",
       "    <tr>\n",
       "      <th>25%</th>\n",
       "      <td>19807.750000</td>\n",
       "      <td>0.557676</td>\n",
       "    </tr>\n",
       "    <tr>\n",
       "      <th>50%</th>\n",
       "      <td>19957.500000</td>\n",
       "      <td>0.641417</td>\n",
       "    </tr>\n",
       "    <tr>\n",
       "      <th>75%</th>\n",
       "      <td>20107.250000</td>\n",
       "      <td>0.726423</td>\n",
       "    </tr>\n",
       "    <tr>\n",
       "      <th>max</th>\n",
       "      <td>20257.000000</td>\n",
       "      <td>0.876951</td>\n",
       "    </tr>\n",
       "  </tbody>\n",
       "</table>\n",
       "</div>"
      ],
      "text/plain": [
       "                 id  attractiveness\n",
       "count    600.000000      600.000000\n",
       "mean   19957.500000        0.643014\n",
       "std      173.349358        0.111017\n",
       "min    19658.000000        0.357996\n",
       "25%    19807.750000        0.557676\n",
       "50%    19957.500000        0.641417\n",
       "75%    20107.250000        0.726423\n",
       "max    20257.000000        0.876951"
      ]
     },
     "execution_count": 14,
     "metadata": {},
     "output_type": "execute_result"
    }
   ],
   "source": [
    "submission_to_save.describe()"
   ]
  },
  {
   "cell_type": "code",
   "execution_count": 18,
   "metadata": {
    "collapsed": true
   },
   "outputs": [],
   "source": [
    "mower_df = pd.read_csv(path, delimiter=\";\")"
   ]
  },
  {
   "cell_type": "code",
   "execution_count": 19,
   "metadata": {
    "collapsed": false
   },
   "outputs": [],
   "source": [
    "mowerByQuality = mower_df.groupby(\"quality\")"
   ]
  },
  {
   "cell_type": "code",
   "execution_count": 21,
   "metadata": {
    "collapsed": false
   },
   "outputs": [
    {
     "data": {
      "text/html": [
       "<div>\n",
       "<table border=\"1\" class=\"dataframe\">\n",
       "  <thead>\n",
       "    <tr style=\"text-align: right;\">\n",
       "      <th></th>\n",
       "      <th>capacity</th>\n",
       "      <th>failure_rate</th>\n",
       "      <th>id</th>\n",
       "      <th>margin</th>\n",
       "      <th>price</th>\n",
       "      <th>prod_cost</th>\n",
       "      <th>product_type</th>\n",
       "      <th>warranty</th>\n",
       "    </tr>\n",
       "    <tr>\n",
       "      <th>quality</th>\n",
       "      <th></th>\n",
       "      <th></th>\n",
       "      <th></th>\n",
       "      <th></th>\n",
       "      <th></th>\n",
       "      <th></th>\n",
       "      <th></th>\n",
       "      <th></th>\n",
       "    </tr>\n",
       "  </thead>\n",
       "  <tbody>\n",
       "    <tr>\n",
       "      <th>Hight</th>\n",
       "      <td>74</td>\n",
       "      <td>74</td>\n",
       "      <td>74</td>\n",
       "      <td>74</td>\n",
       "      <td>74</td>\n",
       "      <td>74</td>\n",
       "      <td>74</td>\n",
       "      <td>74</td>\n",
       "    </tr>\n",
       "    <tr>\n",
       "      <th>Low</th>\n",
       "      <td>407</td>\n",
       "      <td>407</td>\n",
       "      <td>407</td>\n",
       "      <td>407</td>\n",
       "      <td>407</td>\n",
       "      <td>407</td>\n",
       "      <td>407</td>\n",
       "      <td>407</td>\n",
       "    </tr>\n",
       "    <tr>\n",
       "      <th>Medium</th>\n",
       "      <td>119</td>\n",
       "      <td>119</td>\n",
       "      <td>119</td>\n",
       "      <td>119</td>\n",
       "      <td>119</td>\n",
       "      <td>119</td>\n",
       "      <td>119</td>\n",
       "      <td>119</td>\n",
       "    </tr>\n",
       "  </tbody>\n",
       "</table>\n",
       "</div>"
      ],
      "text/plain": [
       "         capacity  failure_rate   id  margin  price  prod_cost  product_type  \\\n",
       "quality                                                                        \n",
       "Hight          74            74   74      74     74         74            74   \n",
       "Low           407           407  407     407    407        407           407   \n",
       "Medium        119           119  119     119    119        119           119   \n",
       "\n",
       "         warranty  \n",
       "quality            \n",
       "Hight          74  \n",
       "Low           407  \n",
       "Medium        119  "
      ]
     },
     "execution_count": 21,
     "metadata": {},
     "output_type": "execute_result"
    }
   ],
   "source": [
    "mowerByQuality.count()"
   ]
  },
  {
   "cell_type": "code",
   "execution_count": null,
   "metadata": {
    "collapsed": true
   },
   "outputs": [],
   "source": []
  }
 ],
 "metadata": {
  "anaconda-cloud": {},
  "kernelspec": {
   "display_name": "Python [conda root]",
   "language": "python",
   "name": "conda-root-py"
  },
  "language_info": {
   "codemirror_mode": {
    "name": "ipython",
    "version": 2
   },
   "file_extension": ".py",
   "mimetype": "text/x-python",
   "name": "python",
   "nbconvert_exporter": "python",
   "pygments_lexer": "ipython2",
   "version": "2.7.12"
  }
 },
 "nbformat": 4,
 "nbformat_minor": 0
}
