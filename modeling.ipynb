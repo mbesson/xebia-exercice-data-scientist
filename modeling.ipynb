{
 "cells": [
  {
   "cell_type": "markdown",
   "metadata": {
    "collapsed": true
   },
   "source": [
    "# Modélisation"
   ]
  },
  {
   "cell_type": "code",
   "execution_count": 1,
   "metadata": {
    "collapsed": true
   },
   "outputs": [],
   "source": [
    "# Bibliothèques nécessaires\n",
    "import pandas as pd\n",
    "import numpy as np\n",
    "from sklearn.svm import SVR\n",
    "from sklearn import linear_model\n",
    "from sklearn.ensemble import RandomForestRegressor\n",
    "from sklearn.cross_validation import train_test_split\n",
    "import math\n",
    "import operator\n",
    "\n",
    "def RMSLE(estimate, real):\n",
    "    \"\"\"\n",
    "        Computes the Root Mean Square Logarithmic Error of two elements.\n",
    "        \n",
    "        :param estimate: The predicted values\n",
    "        :param real: The real values\n",
    "        :return: The RMSLE of the two input elements\n",
    "    \"\"\"\n",
    "    \n",
    "    # we check the size on the input elements are the same\n",
    "    assert(estimate.size == real.size), \"Input elements must have the same size\"\n",
    "    size = estimate.size\n",
    "    diff = map(operator.sub, \n",
    "               map(lambda x:math.log(x+1), estimate),\n",
    "               map(lambda x:math.log(x+1), real))\n",
    "    diff_squared = map(lambda x:x*x, diff)\n",
    "    return math.sqrt(sum(diff_squared)/size)"
   ]
  },
  {
   "cell_type": "code",
   "execution_count": 2,
   "metadata": {
    "collapsed": false
   },
   "outputs": [],
   "source": [
    "# Chemin vers le fichier csv contenant les données à explorer.\n",
    "path= \"data/cleaned/mower_market_snapshot_cleaned.csv\"\n",
    "\n",
    "# Délimiteur utilisé dans le fichier csv\n",
    "delimiter=\",\"\n",
    "\n",
    "# Création de la dataframe à partir du fichier csv\n",
    "mower_df = pd.read_csv(path, delimiter=delimiter)"
   ]
  },
  {
   "cell_type": "code",
   "execution_count": 3,
   "metadata": {
    "collapsed": false
   },
   "outputs": [
    {
     "name": "stderr",
     "output_type": "stream",
     "text": [
      "/Users/mathieu/anaconda/lib/python2.7/site-packages/ipykernel/__main__.py:2: SettingWithCopyWarning: \n",
      "A value is trying to be set on a copy of a slice from a DataFrame\n",
      "\n",
      "See the caveats in the documentation: http://pandas.pydata.org/pandas-docs/stable/indexing.html#indexing-view-versus-copy\n",
      "  from ipykernel import kernelapp as app\n"
     ]
    }
   ],
   "source": [
    "data = mower_df.ix[:, mower_df.columns != 'attractiveness']\n",
    "data.drop(labels=\"id\", axis=1, inplace=True)\n",
    "target = mower_df[\"attractiveness\"]\n",
    "\n",
    "# we remove 20% of the dataset\n",
    "X_train, X_test, y_train, y_test = train_test_split(data, target, \n",
    "                                                    test_size=0.2)"
   ]
  },
  {
   "cell_type": "markdown",
   "metadata": {},
   "source": [
    "## Support Vector Classification with linear kernel"
   ]
  },
  {
   "cell_type": "code",
   "execution_count": 4,
   "metadata": {
    "collapsed": false
   },
   "outputs": [
    {
     "data": {
      "text/plain": [
       "0.07072015253136421"
      ]
     },
     "execution_count": 4,
     "metadata": {},
     "output_type": "execute_result"
    }
   ],
   "source": [
    "clf_svr_lin = SVR(kernel='linear', tol=0.001)\n",
    "# training\n",
    "clf_svr_lin = clf_svr_lin.fit(X_train.values, y_train.values)\n",
    "# testing\n",
    "result_svr_lin = clf_svr_lin.predict(X_test.values)\n",
    "# error\n",
    "RMSLE(result_svr_lin, y_test.values)"
   ]
  },
  {
   "cell_type": "markdown",
   "metadata": {},
   "source": [
    "## Support Vector Classification"
   ]
  },
  {
   "cell_type": "code",
   "execution_count": 5,
   "metadata": {
    "collapsed": false
   },
   "outputs": [
    {
     "data": {
      "text/plain": [
       "0.06976873200261322"
      ]
     },
     "execution_count": 5,
     "metadata": {},
     "output_type": "execute_result"
    }
   ],
   "source": [
    "reg = linear_model.Ridge(alpha = .5)\n",
    "# training\n",
    "reg.fit(X_train.values, y_train.values)\n",
    "# testing\n",
    "result_reg = reg.predict(X_test.values)\n",
    "# error\n",
    "RMSLE(result_reg, y_test.values)"
   ]
  },
  {
   "cell_type": "markdown",
   "metadata": {},
   "source": [
    "## Support Vector Classification with rbf kernel"
   ]
  },
  {
   "cell_type": "code",
   "execution_count": 6,
   "metadata": {
    "collapsed": false
   },
   "outputs": [
    {
     "data": {
      "text/plain": [
       "0.05512953004084889"
      ]
     },
     "execution_count": 6,
     "metadata": {},
     "output_type": "execute_result"
    }
   ],
   "source": [
    "clf_rbf = SVR(kernel='rbf')\n",
    "clf_rbf = clf_rbf.fit(X_train.values, y_train.values)\n",
    "result_rbf = clf_rbf.predict(X_test.values)\n",
    "RMSLE(result_rbf, y_test.values)"
   ]
  },
  {
   "cell_type": "markdown",
   "metadata": {},
   "source": [
    "## Random forest"
   ]
  },
  {
   "cell_type": "code",
   "execution_count": 7,
   "metadata": {
    "collapsed": false
   },
   "outputs": [
    {
     "data": {
      "text/plain": [
       "0.04436744978939558"
      ]
     },
     "execution_count": 7,
     "metadata": {},
     "output_type": "execute_result"
    }
   ],
   "source": [
    "clf_rfg = RandomForestRegressor(100)\n",
    "clf_rfg = clf_rfg.fit(X_train.values, y_train.values)\n",
    "result_rfg = clf_rfg.predict(X_test.values)\n",
    "RMSLE(result_rfg, y_test.values)"
   ]
  },
  {
   "cell_type": "markdown",
   "metadata": {},
   "source": [
    "La fôret aléatoire semble le meilleur candidat pour réaliser notre prédiction"
   ]
  },
  {
   "cell_type": "markdown",
   "metadata": {},
   "source": [
    "## Prédiction"
   ]
  },
  {
   "cell_type": "code",
   "execution_count": 8,
   "metadata": {
    "collapsed": true
   },
   "outputs": [],
   "source": [
    "# Chemin vers le fichier csv contenant les données à étudier.\n",
    "path= \"data/original/submission_set.csv\"\n",
    "\n",
    "# Délimiteur utilisé dans le fichier csv\n",
    "delimiter_submission=\";\"\n",
    "\n",
    "# Création de la dataframe à partir du fichier csv\n",
    "submission = pd.read_csv(path, delimiter=delimiter_submission)\n",
    "\n",
    "# On supprime les variables que nous ne voulons pas garder pour la prédiction\n",
    "submission.drop(labels=\"margin\", axis=1, inplace=True)\n",
    "submission.drop(labels=\"prod_cost\", axis=1, inplace=True)\n",
    "submission.drop(labels=\"warranty\", axis=1, inplace=True)\n",
    "\n",
    "# binarisation des variables catégorielles\n",
    "submission_df = pd.get_dummies(submission)"
   ]
  },
  {
   "cell_type": "code",
   "execution_count": 9,
   "metadata": {
    "collapsed": false
   },
   "outputs": [
    {
     "data": {
      "text/html": [
       "<div>\n",
       "<table border=\"1\" class=\"dataframe\">\n",
       "  <thead>\n",
       "    <tr style=\"text-align: right;\">\n",
       "      <th></th>\n",
       "      <th>capacity</th>\n",
       "      <th>failure_rate</th>\n",
       "      <th>id</th>\n",
       "      <th>price</th>\n",
       "      <th>product_type_auto-portee</th>\n",
       "      <th>product_type_electrique</th>\n",
       "      <th>product_type_essence</th>\n",
       "      <th>quality_Hight</th>\n",
       "      <th>quality_Low</th>\n",
       "      <th>quality_Medium</th>\n",
       "    </tr>\n",
       "  </thead>\n",
       "  <tbody>\n",
       "    <tr>\n",
       "      <th>count</th>\n",
       "      <td>600.000000</td>\n",
       "      <td>600.000000</td>\n",
       "      <td>600.000000</td>\n",
       "      <td>600.000000</td>\n",
       "      <td>600.00000</td>\n",
       "      <td>600.000000</td>\n",
       "      <td>600.000000</td>\n",
       "      <td>600.000000</td>\n",
       "      <td>600.000000</td>\n",
       "      <td>600.000000</td>\n",
       "    </tr>\n",
       "    <tr>\n",
       "      <th>mean</th>\n",
       "      <td>50.101143</td>\n",
       "      <td>0.164916</td>\n",
       "      <td>19957.500000</td>\n",
       "      <td>244.531361</td>\n",
       "      <td>0.10000</td>\n",
       "      <td>0.308333</td>\n",
       "      <td>0.591667</td>\n",
       "      <td>0.123333</td>\n",
       "      <td>0.678333</td>\n",
       "      <td>0.198333</td>\n",
       "    </tr>\n",
       "    <tr>\n",
       "      <th>std</th>\n",
       "      <td>16.364164</td>\n",
       "      <td>0.073387</td>\n",
       "      <td>173.349358</td>\n",
       "      <td>241.642303</td>\n",
       "      <td>0.30025</td>\n",
       "      <td>0.462190</td>\n",
       "      <td>0.491936</td>\n",
       "      <td>0.329094</td>\n",
       "      <td>0.467506</td>\n",
       "      <td>0.399077</td>\n",
       "    </tr>\n",
       "    <tr>\n",
       "      <th>min</th>\n",
       "      <td>7.432330</td>\n",
       "      <td>0.029201</td>\n",
       "      <td>19658.000000</td>\n",
       "      <td>63.969204</td>\n",
       "      <td>0.00000</td>\n",
       "      <td>0.000000</td>\n",
       "      <td>0.000000</td>\n",
       "      <td>0.000000</td>\n",
       "      <td>0.000000</td>\n",
       "      <td>0.000000</td>\n",
       "    </tr>\n",
       "    <tr>\n",
       "      <th>25%</th>\n",
       "      <td>38.754969</td>\n",
       "      <td>0.095825</td>\n",
       "      <td>19807.750000</td>\n",
       "      <td>73.367481</td>\n",
       "      <td>0.00000</td>\n",
       "      <td>0.000000</td>\n",
       "      <td>0.000000</td>\n",
       "      <td>0.000000</td>\n",
       "      <td>0.000000</td>\n",
       "      <td>0.000000</td>\n",
       "    </tr>\n",
       "    <tr>\n",
       "      <th>50%</th>\n",
       "      <td>50.761661</td>\n",
       "      <td>0.202148</td>\n",
       "      <td>19957.500000</td>\n",
       "      <td>78.618777</td>\n",
       "      <td>0.00000</td>\n",
       "      <td>0.000000</td>\n",
       "      <td>1.000000</td>\n",
       "      <td>0.000000</td>\n",
       "      <td>1.000000</td>\n",
       "      <td>0.000000</td>\n",
       "    </tr>\n",
       "    <tr>\n",
       "      <th>75%</th>\n",
       "      <td>61.342713</td>\n",
       "      <td>0.225939</td>\n",
       "      <td>20107.250000</td>\n",
       "      <td>380.587182</td>\n",
       "      <td>0.00000</td>\n",
       "      <td>1.000000</td>\n",
       "      <td>1.000000</td>\n",
       "      <td>0.000000</td>\n",
       "      <td>1.000000</td>\n",
       "      <td>0.000000</td>\n",
       "    </tr>\n",
       "    <tr>\n",
       "      <th>max</th>\n",
       "      <td>92.666666</td>\n",
       "      <td>0.280646</td>\n",
       "      <td>20257.000000</td>\n",
       "      <td>919.588021</td>\n",
       "      <td>1.00000</td>\n",
       "      <td>1.000000</td>\n",
       "      <td>1.000000</td>\n",
       "      <td>1.000000</td>\n",
       "      <td>1.000000</td>\n",
       "      <td>1.000000</td>\n",
       "    </tr>\n",
       "  </tbody>\n",
       "</table>\n",
       "</div>"
      ],
      "text/plain": [
       "         capacity  failure_rate            id       price  \\\n",
       "count  600.000000    600.000000    600.000000  600.000000   \n",
       "mean    50.101143      0.164916  19957.500000  244.531361   \n",
       "std     16.364164      0.073387    173.349358  241.642303   \n",
       "min      7.432330      0.029201  19658.000000   63.969204   \n",
       "25%     38.754969      0.095825  19807.750000   73.367481   \n",
       "50%     50.761661      0.202148  19957.500000   78.618777   \n",
       "75%     61.342713      0.225939  20107.250000  380.587182   \n",
       "max     92.666666      0.280646  20257.000000  919.588021   \n",
       "\n",
       "       product_type_auto-portee  product_type_electrique  \\\n",
       "count                 600.00000               600.000000   \n",
       "mean                    0.10000                 0.308333   \n",
       "std                     0.30025                 0.462190   \n",
       "min                     0.00000                 0.000000   \n",
       "25%                     0.00000                 0.000000   \n",
       "50%                     0.00000                 0.000000   \n",
       "75%                     0.00000                 1.000000   \n",
       "max                     1.00000                 1.000000   \n",
       "\n",
       "       product_type_essence  quality_Hight  quality_Low  quality_Medium  \n",
       "count            600.000000     600.000000   600.000000      600.000000  \n",
       "mean               0.591667       0.123333     0.678333        0.198333  \n",
       "std                0.491936       0.329094     0.467506        0.399077  \n",
       "min                0.000000       0.000000     0.000000        0.000000  \n",
       "25%                0.000000       0.000000     0.000000        0.000000  \n",
       "50%                1.000000       0.000000     1.000000        0.000000  \n",
       "75%                1.000000       0.000000     1.000000        0.000000  \n",
       "max                1.000000       1.000000     1.000000        1.000000  "
      ]
     },
     "execution_count": 9,
     "metadata": {},
     "output_type": "execute_result"
    }
   ],
   "source": [
    "submission_df.describe(include='all')"
   ]
  },
  {
   "cell_type": "code",
   "execution_count": 10,
   "metadata": {
    "collapsed": true
   },
   "outputs": [],
   "source": [
    "# On garde les ids pour enregistrer notre prédiction\n",
    "ids = submission_df[\"id\"]\n",
    "submission_df.drop(labels=\"id\", axis=1, inplace=True)"
   ]
  },
  {
   "cell_type": "code",
   "execution_count": 11,
   "metadata": {
    "collapsed": false
   },
   "outputs": [],
   "source": [
    "# prédiction en utilisant le modèle donné par la fôret aléatoire\n",
    "submission_result = clf_rfg.predict(submission_df.values)\n",
    "\n",
    "col = ['id', 'attractiveness']\n",
    "submission_to_save = pd.DataFrame(zip(ids,submission_result), columns=col)"
   ]
  },
  {
   "cell_type": "code",
   "execution_count": 12,
   "metadata": {
    "collapsed": false
   },
   "outputs": [],
   "source": [
    "# On enregistre au format csv\n",
    "submission_to_save.to_csv(path_or_buf=\"data/result/besson_mathieu_attractiveness.csv\", sep=';', index=False)"
   ]
  },
  {
   "cell_type": "code",
   "execution_count": 13,
   "metadata": {
    "collapsed": false
   },
   "outputs": [
    {
     "data": {
      "text/html": [
       "<div>\n",
       "<table border=\"1\" class=\"dataframe\">\n",
       "  <thead>\n",
       "    <tr style=\"text-align: right;\">\n",
       "      <th></th>\n",
       "      <th>id</th>\n",
       "      <th>attractiveness</th>\n",
       "    </tr>\n",
       "  </thead>\n",
       "  <tbody>\n",
       "    <tr>\n",
       "      <th>count</th>\n",
       "      <td>600.000000</td>\n",
       "      <td>600.000000</td>\n",
       "    </tr>\n",
       "    <tr>\n",
       "      <th>mean</th>\n",
       "      <td>19957.500000</td>\n",
       "      <td>0.641109</td>\n",
       "    </tr>\n",
       "    <tr>\n",
       "      <th>std</th>\n",
       "      <td>173.349358</td>\n",
       "      <td>0.112259</td>\n",
       "    </tr>\n",
       "    <tr>\n",
       "      <th>min</th>\n",
       "      <td>19658.000000</td>\n",
       "      <td>0.353832</td>\n",
       "    </tr>\n",
       "    <tr>\n",
       "      <th>25%</th>\n",
       "      <td>19807.750000</td>\n",
       "      <td>0.557622</td>\n",
       "    </tr>\n",
       "    <tr>\n",
       "      <th>50%</th>\n",
       "      <td>19957.500000</td>\n",
       "      <td>0.643397</td>\n",
       "    </tr>\n",
       "    <tr>\n",
       "      <th>75%</th>\n",
       "      <td>20107.250000</td>\n",
       "      <td>0.725564</td>\n",
       "    </tr>\n",
       "    <tr>\n",
       "      <th>max</th>\n",
       "      <td>20257.000000</td>\n",
       "      <td>0.878987</td>\n",
       "    </tr>\n",
       "  </tbody>\n",
       "</table>\n",
       "</div>"
      ],
      "text/plain": [
       "                 id  attractiveness\n",
       "count    600.000000      600.000000\n",
       "mean   19957.500000        0.641109\n",
       "std      173.349358        0.112259\n",
       "min    19658.000000        0.353832\n",
       "25%    19807.750000        0.557622\n",
       "50%    19957.500000        0.643397\n",
       "75%    20107.250000        0.725564\n",
       "max    20257.000000        0.878987"
      ]
     },
     "execution_count": 13,
     "metadata": {},
     "output_type": "execute_result"
    }
   ],
   "source": [
    "submission_to_save.describe()"
   ]
  }
 ],
 "metadata": {
  "anaconda-cloud": {},
  "kernelspec": {
   "display_name": "Python [conda root]",
   "language": "python",
   "name": "conda-root-py"
  },
  "language_info": {
   "codemirror_mode": {
    "name": "ipython",
    "version": 2
   },
   "file_extension": ".py",
   "mimetype": "text/x-python",
   "name": "python",
   "nbconvert_exporter": "python",
   "pygments_lexer": "ipython2",
   "version": "2.7.12"
  }
 },
 "nbformat": 4,
 "nbformat_minor": 0
}
